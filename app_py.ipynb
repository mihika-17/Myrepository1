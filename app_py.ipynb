{
  "cells": [
    {
      "cell_type": "markdown",
      "metadata": {
        "id": "view-in-github",
        "colab_type": "text"
      },
      "source": [
        "<a href=\"https://colab.research.google.com/github/mihika-17/Myrepository1/blob/main/app_py.ipynb\" target=\"_parent\"><img src=\"https://colab.research.google.com/assets/colab-badge.svg\" alt=\"Open In Colab\"/></a>"
      ]
    },
    {
      "cell_type": "code",
      "execution_count": 5,
      "metadata": {
        "colab": {
          "base_uri": "https://localhost:8080/"
        },
        "id": "WwIJ_DYgOv5s",
        "outputId": "d1f08f33-6b64-44e7-e3f4-481b740c58ae"
      },
      "outputs": [
        {
          "output_type": "stream",
          "name": "stdout",
          "text": [
            "Requirement already satisfied: streamlit in /usr/local/lib/python3.11/dist-packages (1.48.1)\n",
            "Requirement already satisfied: pyngrok in /usr/local/lib/python3.11/dist-packages (7.3.0)\n",
            "Requirement already satisfied: openpyxl in /usr/local/lib/python3.11/dist-packages (3.1.5)\n",
            "Requirement already satisfied: altair!=5.4.0,!=5.4.1,<6,>=4.0 in /usr/local/lib/python3.11/dist-packages (from streamlit) (5.5.0)\n",
            "Requirement already satisfied: blinker<2,>=1.5.0 in /usr/local/lib/python3.11/dist-packages (from streamlit) (1.9.0)\n",
            "Requirement already satisfied: cachetools<7,>=4.0 in /usr/local/lib/python3.11/dist-packages (from streamlit) (5.5.2)\n",
            "Requirement already satisfied: click<9,>=7.0 in /usr/local/lib/python3.11/dist-packages (from streamlit) (8.2.1)\n",
            "Requirement already satisfied: numpy<3,>=1.23 in /usr/local/lib/python3.11/dist-packages (from streamlit) (2.0.2)\n",
            "Requirement already satisfied: packaging<26,>=20 in /usr/local/lib/python3.11/dist-packages (from streamlit) (25.0)\n",
            "Requirement already satisfied: pandas<3,>=1.4.0 in /usr/local/lib/python3.11/dist-packages (from streamlit) (2.2.2)\n",
            "Requirement already satisfied: pillow<12,>=7.1.0 in /usr/local/lib/python3.11/dist-packages (from streamlit) (11.3.0)\n",
            "Requirement already satisfied: protobuf<7,>=3.20 in /usr/local/lib/python3.11/dist-packages (from streamlit) (5.29.5)\n",
            "Requirement already satisfied: pyarrow>=7.0 in /usr/local/lib/python3.11/dist-packages (from streamlit) (18.1.0)\n",
            "Requirement already satisfied: requests<3,>=2.27 in /usr/local/lib/python3.11/dist-packages (from streamlit) (2.32.3)\n",
            "Requirement already satisfied: tenacity<10,>=8.1.0 in /usr/local/lib/python3.11/dist-packages (from streamlit) (9.1.2)\n",
            "Requirement already satisfied: toml<2,>=0.10.1 in /usr/local/lib/python3.11/dist-packages (from streamlit) (0.10.2)\n",
            "Requirement already satisfied: typing-extensions<5,>=4.4.0 in /usr/local/lib/python3.11/dist-packages (from streamlit) (4.14.1)\n",
            "Requirement already satisfied: watchdog<7,>=2.1.5 in /usr/local/lib/python3.11/dist-packages (from streamlit) (6.0.0)\n",
            "Requirement already satisfied: gitpython!=3.1.19,<4,>=3.0.7 in /usr/local/lib/python3.11/dist-packages (from streamlit) (3.1.45)\n",
            "Requirement already satisfied: pydeck<1,>=0.8.0b4 in /usr/local/lib/python3.11/dist-packages (from streamlit) (0.9.1)\n",
            "Requirement already satisfied: tornado!=6.5.0,<7,>=6.0.3 in /usr/local/lib/python3.11/dist-packages (from streamlit) (6.4.2)\n",
            "Requirement already satisfied: PyYAML>=5.1 in /usr/local/lib/python3.11/dist-packages (from pyngrok) (6.0.2)\n",
            "Requirement already satisfied: et-xmlfile in /usr/local/lib/python3.11/dist-packages (from openpyxl) (2.0.0)\n",
            "Requirement already satisfied: jinja2 in /usr/local/lib/python3.11/dist-packages (from altair!=5.4.0,!=5.4.1,<6,>=4.0->streamlit) (3.1.6)\n",
            "Requirement already satisfied: jsonschema>=3.0 in /usr/local/lib/python3.11/dist-packages (from altair!=5.4.0,!=5.4.1,<6,>=4.0->streamlit) (4.25.0)\n",
            "Requirement already satisfied: narwhals>=1.14.2 in /usr/local/lib/python3.11/dist-packages (from altair!=5.4.0,!=5.4.1,<6,>=4.0->streamlit) (2.1.1)\n",
            "Requirement already satisfied: gitdb<5,>=4.0.1 in /usr/local/lib/python3.11/dist-packages (from gitpython!=3.1.19,<4,>=3.0.7->streamlit) (4.0.12)\n",
            "Requirement already satisfied: python-dateutil>=2.8.2 in /usr/local/lib/python3.11/dist-packages (from pandas<3,>=1.4.0->streamlit) (2.9.0.post0)\n",
            "Requirement already satisfied: pytz>=2020.1 in /usr/local/lib/python3.11/dist-packages (from pandas<3,>=1.4.0->streamlit) (2025.2)\n",
            "Requirement already satisfied: tzdata>=2022.7 in /usr/local/lib/python3.11/dist-packages (from pandas<3,>=1.4.0->streamlit) (2025.2)\n",
            "Requirement already satisfied: charset-normalizer<4,>=2 in /usr/local/lib/python3.11/dist-packages (from requests<3,>=2.27->streamlit) (3.4.3)\n",
            "Requirement already satisfied: idna<4,>=2.5 in /usr/local/lib/python3.11/dist-packages (from requests<3,>=2.27->streamlit) (3.10)\n",
            "Requirement already satisfied: urllib3<3,>=1.21.1 in /usr/local/lib/python3.11/dist-packages (from requests<3,>=2.27->streamlit) (2.5.0)\n",
            "Requirement already satisfied: certifi>=2017.4.17 in /usr/local/lib/python3.11/dist-packages (from requests<3,>=2.27->streamlit) (2025.8.3)\n",
            "Requirement already satisfied: smmap<6,>=3.0.1 in /usr/local/lib/python3.11/dist-packages (from gitdb<5,>=4.0.1->gitpython!=3.1.19,<4,>=3.0.7->streamlit) (5.0.2)\n",
            "Requirement already satisfied: MarkupSafe>=2.0 in /usr/local/lib/python3.11/dist-packages (from jinja2->altair!=5.4.0,!=5.4.1,<6,>=4.0->streamlit) (3.0.2)\n",
            "Requirement already satisfied: attrs>=22.2.0 in /usr/local/lib/python3.11/dist-packages (from jsonschema>=3.0->altair!=5.4.0,!=5.4.1,<6,>=4.0->streamlit) (25.3.0)\n",
            "Requirement already satisfied: jsonschema-specifications>=2023.03.6 in /usr/local/lib/python3.11/dist-packages (from jsonschema>=3.0->altair!=5.4.0,!=5.4.1,<6,>=4.0->streamlit) (2025.4.1)\n",
            "Requirement already satisfied: referencing>=0.28.4 in /usr/local/lib/python3.11/dist-packages (from jsonschema>=3.0->altair!=5.4.0,!=5.4.1,<6,>=4.0->streamlit) (0.36.2)\n",
            "Requirement already satisfied: rpds-py>=0.7.1 in /usr/local/lib/python3.11/dist-packages (from jsonschema>=3.0->altair!=5.4.0,!=5.4.1,<6,>=4.0->streamlit) (0.27.0)\n",
            "Requirement already satisfied: six>=1.5 in /usr/local/lib/python3.11/dist-packages (from python-dateutil>=2.8.2->pandas<3,>=1.4.0->streamlit) (1.17.0)\n"
          ]
        }
      ],
      "source": [
        "!pip install streamlit pyngrok openpyxl\n"
      ]
    },
    {
      "cell_type": "code",
      "source": [],
      "metadata": {
        "id": "mprgC6lqKDgd"
      },
      "execution_count": 5,
      "outputs": []
    },
    {
      "cell_type": "code",
      "source": [
        "%%writefile app.py\n",
        "import streamlit as st\n",
        "import pandas as pd\n",
        "import re\n",
        "import matplotlib.pyplot as plt\n",
        "import matplotlib.dates as mdates\n",
        "\n",
        "st.title(\"📊 Excel Sheet Consolidator\")\n",
        "st.write(\"Upload an Excel file with sheets named like 'March 2025'.\")\n",
        "\n",
        "uploaded_file = st.file_uploader(\"Upload Excel file\", type=[\"xlsx\", \"xls\"])\n",
        "\n",
        "if uploaded_file is not None:\n",
        "    xls = pd.ExcelFile(uploaded_file)\n",
        "    month_year_pattern = re.compile(\n",
        "        r\"^(January|February|March|April|May|June|July|August|September|October|November|December)\\s+\\d{4}$\",\n",
        "        re.IGNORECASE\n",
        "    )\n",
        "\n",
        "    dfs = []\n",
        "    for sheet_name in xls.sheet_names:\n",
        "        if month_year_pattern.match(sheet_name):\n",
        "            df = pd.read_excel(uploaded_file, sheet_name=sheet_name)\n",
        "            df[\"Sheet Name\"] = sheet_name\n",
        "            dfs.append(df)\n",
        "\n",
        "    if dfs:\n",
        "        consolidated_df = pd.concat(dfs, ignore_index=True)\n",
        "        st.success(f\"✅ Consolidated {len(dfs)} sheets.\")\n",
        "        st.dataframe(consolidated_df)\n",
        "\n",
        "        # === INCIDENT TYPE ANALYSIS ===\n",
        "        if \"Incident Type\" in consolidated_df.columns:\n",
        "            st.subheader(\"📌 Top Incident Types\")\n",
        "            incident_counts = consolidated_df[\"Incident Type\"].value_counts().reset_index()\n",
        "            incident_counts.columns = [\"Incident Type\", \"Count\"]\n",
        "\n",
        "            st.dataframe(incident_counts)\n",
        "            st.bar_chart(incident_counts.set_index(\"Incident Type\"))\n",
        "        else:\n",
        "            st.warning(\"⚠️ Column 'Incident Type' not found in the data.\")\n",
        "\n",
        "        # === ⏳ AVERAGE DELAY IN FORWARDING ===\n",
        "        if \"Incident Received by QA on\" in consolidated_df.columns and \"Date\" in consolidated_df.columns:\n",
        "            # Convert columns to datetime\n",
        "            consolidated_df[\"Incident Received by QA on\"] = pd.to_datetime(\n",
        "                consolidated_df[\"Incident Received by QA on\"], errors='coerce'\n",
        "            )\n",
        "            consolidated_df[\"Date\"] = pd.to_datetime(consolidated_df[\"Date\"], errors='coerce')\n",
        "\n",
        "            # Calculate delay in days\n",
        "            consolidated_df[\"Forwarding Delay (Days)\"] = (\n",
        "                consolidated_df[\"Incident Received by QA on\"] - consolidated_df[\"Date\"]\n",
        "            ).dt.days\n",
        "\n",
        "            # Overall average delay\n",
        "            avg_delay = consolidated_df[\"Forwarding Delay (Days)\"].mean(skipna=True)\n",
        "            st.subheader(\"⏳ Average Delay in Forwarding to QA\")\n",
        "            st.metric(label=\"Average Delay (Days)\", value=round(avg_delay, 2))\n",
        "\n",
        "            # === MONTH-WISE AVERAGE DELAY ===\n",
        "            consolidated_df[\"Month_Year\"] = consolidated_df[\"Date\"].dt.to_period(\"M\").dt.to_timestamp()\n",
        "            monthly_avg_delay = consolidated_df.groupby(\"Month_Year\")[\"Forwarding Delay (Days)\"].mean().reset_index()\n",
        "\n",
        "            # Plot line chart\n",
        "            fig, ax = plt.subplots(figsize=(10, 6))\n",
        "            ax.plot(monthly_avg_delay[\"Month_Year\"], monthly_avg_delay[\"Forwarding Delay (Days)\"], marker=\"o\")\n",
        "            ax.set_title(\"Month-wise Average Delay (Days)\")\n",
        "            ax.set_xlabel(\"Month-Year\")\n",
        "            ax.set_ylabel(\"Average Delay (Days)\")\n",
        "            ax.xaxis.set_major_formatter(mdates.DateFormatter('%b %Y'))\n",
        "            plt.xticks(rotation=45)\n",
        "            plt.grid(True)\n",
        "            st.pyplot(fig)\n",
        "\n",
        "            # === FORWARDING DELAY TO SHAREHOLDERS ===\n",
        "\n",
        "        if \"Incident forwarded on\" in consolidated_df.columns and \"Incident Received by QA on\" in consolidated_df.columns:\n",
        "            consolidated_df[\"Incident forwarded on\"] = pd.to_datetime(consolidated_df[\"Incident forwarded on\"], errors='coerce')\n",
        "            consolidated_df[\"Incident Received by QA on\"] = pd.to_datetime(consolidated_df[\"Incident Received by QA on\"], errors='coerce')\n",
        "\n",
        "            consolidated_df[\"Forwarding Delay to Shareholders (Days)\"] = (\n",
        "                consolidated_df[\"Incident forwarded on\"] - consolidated_df[\"Incident Received by QA on\"]\n",
        "            ).dt.days\n",
        "\n",
        "            avg_shareholder_delay = consolidated_df[\"Forwarding Delay to Shareholders (Days)\"].mean(skipna=True)\n",
        "            st.subheader(\"⏳ Average Delay in Forwarding to Shareholders\")\n",
        "            st.metric(label=\"Average Delay (Days)\", value=round(avg_shareholder_delay, 2))\n",
        "\n",
        "            consolidated_df[\"Month_Year\"] = consolidated_df[\"Incident Received by QA on\"].dt.to_period(\"M\").dt.to_timestamp()\n",
        "            monthly_shareholder_delay = consolidated_df.groupby(\"Month_Year\")[\"Forwarding Delay to Shareholders (Days)\"].mean().reset_index()\n",
        "\n",
        "            st.subheader(\"📈 Month-wise Average Forwarding Delay to Shareholders\")\n",
        "            fig, ax = plt.subplots(figsize=(10, 6))\n",
        "            ax.plot(monthly_shareholder_delay[\"Month_Year\"], monthly_shareholder_delay[\"Forwarding Delay to Shareholders (Days)\"], marker=\"o\", color=\"orange\")\n",
        "            ax.set_title(\"Month-wise Average Delay to Shareholders\")\n",
        "            ax.set_xlabel(\"Month-Year\")\n",
        "            ax.set_ylabel(\"Average Delay (Days)\")\n",
        "            ax.xaxis.set_major_formatter(mdates.DateFormatter('%b %Y'))\n",
        "            plt.xticks(rotation=45)\n",
        "            st.pyplot(fig)\n"
      ],
      "metadata": {
        "colab": {
          "base_uri": "https://localhost:8080/"
        },
        "id": "_RNgxEVZHT6R",
        "outputId": "40173733-8288-4a55-88d3-63035eceea0a"
      },
      "execution_count": 1,
      "outputs": [
        {
          "output_type": "stream",
          "name": "stdout",
          "text": [
            "Overwriting app.py\n"
          ]
        }
      ]
    },
    {
      "cell_type": "code",
      "execution_count": 2,
      "metadata": {
        "id": "6rKCJSd9TItn"
      },
      "outputs": [],
      "source": [
        "from pyngrok import ngrok\n",
        "ngrok.set_auth_token(\"3108EAOlFFWQYf5Vxr8kBQXdY8J_5WWoawwt1Q64W1AnsE2q5\")"
      ]
    },
    {
      "cell_type": "code",
      "execution_count": null,
      "metadata": {
        "colab": {
          "base_uri": "https://localhost:8080/"
        },
        "id": "QLFO3u1xTPfx",
        "outputId": "3e24fc3a-ac2b-4f0f-e502-41f0befb987b"
      },
      "outputs": [
        {
          "output_type": "stream",
          "name": "stdout",
          "text": [
            "Streamlit app is live at: NgrokTunnel: \"https://afa808913398.ngrok-free.app\" -> \"http://localhost:8501\"\n",
            "\n",
            "Collecting usage statistics. To deactivate, set browser.gatherUsageStats to false.\n",
            "\u001b[0m\n",
            "\u001b[0m\n",
            "\u001b[34m\u001b[1m  You can now view your Streamlit app in your browser.\u001b[0m\n",
            "\u001b[0m\n",
            "\u001b[34m  Local URL: \u001b[0m\u001b[1mhttp://localhost:8501\u001b[0m\n",
            "\u001b[34m  Network URL: \u001b[0m\u001b[1mhttp://172.28.0.12:8501\u001b[0m\n",
            "\u001b[34m  External URL: \u001b[0m\u001b[1mhttp://34.106.11.212:8501\u001b[0m\n",
            "\u001b[0m\n",
            "2025-08-18 17:43:22.404 Serialization of dataframe to Arrow table was unsuccessful. Applying automatic fixes for column types to make the dataframe Arrow-compatible.\n",
            "Traceback (most recent call last):\n",
            "  File \"/usr/local/lib/python3.11/dist-packages/streamlit/dataframe_util.py\", line 821, in convert_pandas_df_to_arrow_bytes\n",
            "    table = pa.Table.from_pandas(df)\n",
            "            ^^^^^^^^^^^^^^^^^^^^^^^^\n",
            "  File \"pyarrow/table.pxi\", line 4751, in pyarrow.lib.Table.from_pandas\n",
            "  File \"/usr/local/lib/python3.11/dist-packages/pyarrow/pandas_compat.py\", line 625, in dataframe_to_arrays\n",
            "    arrays = [convert_column(c, f)\n",
            "             ^^^^^^^^^^^^^^^^^^^^^\n",
            "  File \"/usr/local/lib/python3.11/dist-packages/pyarrow/pandas_compat.py\", line 625, in <listcomp>\n",
            "    arrays = [convert_column(c, f)\n",
            "              ^^^^^^^^^^^^^^^^^^^^\n",
            "  File \"/usr/local/lib/python3.11/dist-packages/pyarrow/pandas_compat.py\", line 612, in convert_column\n",
            "    raise e\n",
            "  File \"/usr/local/lib/python3.11/dist-packages/pyarrow/pandas_compat.py\", line 606, in convert_column\n",
            "    result = pa.array(col, type=type_, from_pandas=True, safe=safe)\n",
            "             ^^^^^^^^^^^^^^^^^^^^^^^^^^^^^^^^^^^^^^^^^^^^^^^^^^^^^^\n",
            "  File \"pyarrow/array.pxi\", line 360, in pyarrow.lib.array\n",
            "  File \"pyarrow/array.pxi\", line 87, in pyarrow.lib._ndarray_to_array\n",
            "  File \"pyarrow/error.pxi\", line 92, in pyarrow.lib.check_status\n",
            "pyarrow.lib.ArrowTypeError: (\"object of type <class 'str'> cannot be converted to int\", 'Conversion failed for column Date with type object')\n"
          ]
        }
      ],
      "source": [
        "public_url = ngrok.connect(8501)\n",
        "print(\"Streamlit app is live at:\", public_url)\n",
        "\n",
        "!streamlit run app.py & sleep 5\n"
      ]
    }
  ],
  "metadata": {
    "colab": {
      "provenance": [],
      "authorship_tag": "ABX9TyPxmQeLrHywSLar6H1ZBn5G",
      "include_colab_link": true
    },
    "kernelspec": {
      "display_name": "Python 3",
      "name": "python3"
    },
    "language_info": {
      "name": "python"
    }
  },
  "nbformat": 4,
  "nbformat_minor": 0
}